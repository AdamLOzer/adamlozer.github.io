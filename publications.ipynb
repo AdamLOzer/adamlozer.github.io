{
  "cells": [
    {
      "cell_type": "raw",
      "metadata": {},
      "source": [
        "---\n",
        "title: \"Project portfolio\"\n",
        "format:\n",
        "  html:\n",
        "    toc: true\n",
        "description: |\n",
        "  A selection of works in social science, data science, and everything in between.\n",
        "css: theming.scss\n",
        "\n",
        "\n",
        "---"
      ],
      "id": "857e7aef"
    },
    {
      "cell_type": "markdown",
      "metadata": {},
      "source": [
        "```{css, echo=FALSE}\n",
        ".title {\n",
        "  font-size: 100px;\n",
        "  font-style: italic;\n",
        "  color: blue;\n",
        "  font-family: Arial;\n",
        "  font-variant: small-caps;\n",
        "}\n",
        "```\n",
        "\n",
        "\n",
        "\n",
        "### Social research projects\n",
        "\n",
        "-   **The UK MP Inbox** (website coming summer 2024) - A comprehensive database of thousands email newsletters sent by UK members of parliament.\n",
        "\n",
        "\n",
        "### Data science training and mentoring\n",
        "-   **Verian Global Data Science Training seminar** - an annual internal seminar aimed at educating early career researchers about key DS principles and tools.\n",
        "\n",
        "-   **Introduction to R Workshop Series** - an annual series of beginner-friendly workshops covering the basics of data wrangling and data visualisation.\n",
        "\n",
        "### Academic publications\n",
        "\n",
        "-   **Ozer, Adam L.** 2023. “Women Experts and Gender Bias in Political Media”. *Public Opinion Quarterly*.  [**https://doi.org/10.1093/poq/nfad011**](https://doi.org/10.1093/poq/nfad011)\n",
        "\n",
        "-   **Ozer, Adam L.** & Wright, Jamie. 2022. “Partisan News Versus Party Cues: The Effect of Cross-Cutting Party and Partisan Network Cues on Polarization and Persuasion”. *Research & Politics.*  [**https://doi.org/10.1177/20531680221075455**](https://doi.org/10.1177/20531680221075455)\n",
        "\n",
        "-   **Ozer, Adam L.**, Sullivan, Brian W.,  & Van, Douglas S. 2022.  \"Viewed from Different Engels? Differences in Reactions to “Socialism” as a Policy Label\". *Political Research Quarterly*.  [**https://doi.org/10.1177/10659129211037402**](https://doi.org/10.1177/10659129211037402)\n",
        "\n",
        "-   Simas, Elizabeth N. & **Ozer, Adam L.** 2021. “Polarization, candidate positioning, and political participation in the U.S.”. *Electoral Studies*, 73. [**https://doi.org/10.1016/j.electstud.2021.102370**](https://doi.org/10.1016/j.electstud.2021.102370)\n",
        "\n",
        "-   **Ozer, Adam L.** 2020. \"Well, you’re the expert: how signals of source expertise help mitigate partisan bias.\" *Journal of Elections, Public Opinion and Parties*, 1-21. [**https://doi.org/10.1080/17457289.2020.1744611**](https://doi.org/10.1080/17457289.2020.1744611)\n",
        "\n",
        "-   Simas, Elizabeth N., & **Ozer, Adam L.** 2017. \"Church or state? Reassessing how religion shapes impressions of candidate positions\". *Research & Politics*, 4(2). [**https://doi.org/10.1177/2053168017716548**](https://doi.org/10.1177%2F2053168017716548)"
      ],
      "id": "e34407ab"
    }
  ],
  "metadata": {
    "kernelspec": {
      "display_name": "Python 3",
      "language": "python",
      "name": "python3"
    }
  },
  "nbformat": 4,
  "nbformat_minor": 5
}