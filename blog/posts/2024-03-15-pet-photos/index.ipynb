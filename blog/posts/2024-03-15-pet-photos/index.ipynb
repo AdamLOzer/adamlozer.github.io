{
  "cells": [
    {
      "cell_type": "raw",
      "metadata": {},
      "source": [
        "---\n",
        "title: \"Pet photos\"\n",
        "description: |\n",
        "  A very cute placeholder post\n",
        "author: \"Adam L. Ozer\"\n",
        "date: \"2024-03-15\"\n",
        "image: fisher_in_garage.jpg\n",
        "categories: [pets, photos, other stuff]\n",
        "---"
      ],
      "id": "6672ed32"
    },
    {
      "cell_type": "markdown",
      "metadata": {},
      "source": [
        "```{css, echo=FALSE}\n",
        ".title {\n",
        "  font-size: 100px;\n",
        "  font-style: italic;\n",
        "  color: blue;\n",
        "  font-family: Arial;\n",
        "  font-variant: small-caps;\n",
        "}\n",
        "```\n",
        "\n",
        "\n",
        "\n",
        "This is a placeholder for what will eventually become the first blog post. Check back soon for updates and new posts. In the meantime, enjoy some pet photos.\n",
        "\n",
        "## Fisher\n",
        "\n",
        "![](fisher_in_garage.jpg)\n",
        "Fisher in his cat garage.\n",
        "\n",
        "## Coconut\n",
        "\n",
        "![](coconut.jpg)\n",
        "Coconut, nary a thought in his head."
      ],
      "id": "1bfa7e8f"
    }
  ],
  "metadata": {
    "kernelspec": {
      "display_name": "Python 3",
      "language": "python",
      "name": "python3"
    }
  },
  "nbformat": 4,
  "nbformat_minor": 5
}